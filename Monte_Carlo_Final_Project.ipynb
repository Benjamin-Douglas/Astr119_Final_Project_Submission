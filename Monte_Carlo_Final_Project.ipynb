{
 "cells": [
  {
   "cell_type": "code",
   "execution_count": null,
   "metadata": {},
   "outputs": [],
   "source": [
    "%matplotlib inline\n",
    "import numpy as np\n",
    "import matplotlib.pyplot as plt\n",
    "import statistics as st"
   ]
  },
  {
   "cell_type": "markdown",
   "metadata": {},
   "source": [
    "# Start with a reference approximation\n",
    "Simpson's Method"
   ]
  },
  {
   "cell_type": "code",
   "execution_count": null,
   "metadata": {},
   "outputs": [],
   "source": [
    "def func(X):\n",
    "    return np.cos(X)"
   ]
  },
  {
   "cell_type": "code",
   "execution_count": null,
   "metadata": {},
   "outputs": [],
   "source": [
    "def simpson_core(f,X,h):\n",
    "    return h*( f(X) + 4*f(X+h) + f(X+2*h))/3"
   ]
  },
  {
   "cell_type": "code",
   "execution_count": null,
   "metadata": {},
   "outputs": [],
   "source": [
    "def simpsons_method(f,a,b,N):\n",
    "    # f == function to integrate\n",
    "    # a == lower limit of integration\n",
    "    # b == upper limit of integration\n",
    "    # N == number of function evaluations to use\n",
    "    \n",
    "    #define x values over which to evaluate\n",
    "    X = np.linspace(a,b,N)\n",
    "    h = X[1]-X[0]\n",
    "    \n",
    "    #define the value of the integral\n",
    "    Fint = 0\n",
    "    \n",
    "    #perform simpson's method\n",
    "    for i in range(0,len(X)-2,2):\n",
    "        Fint += simpson_core(f,X[i],h)\n",
    "        \n",
    "    #apply the rule over last interval if N is even\n",
    "    if((N%2)==0):\n",
    "        Fint += simpson_core(f,X[-2],.5*h)\n",
    "        \n",
    "    return Fint"
   ]
  },
  {
   "cell_type": "markdown",
   "metadata": {},
   "source": [
    "# Making a function to return the approximation"
   ]
  },
  {
   "cell_type": "code",
   "execution_count": null,
   "metadata": {},
   "outputs": [],
   "source": [
    "def MC_approx(a,b):\n",
    "    n = 3000\n",
    "    u = np.linspace(a,b,n)\n",
    "    v = np.cos(u)\n",
    "    x = (np.random.uniform(a,b,n))\n",
    "    y = (np.random.uniform(np.amin(v),np.amax(v),n))\n",
    "    x.sort()\n",
    "    j = 0\n",
    "    i = 0\n",
    "    ir = []\n",
    "    nir = []\n",
    "    ur = []\n",
    "    #find points in between curve and x-axis\n",
    "    for j in range (n):\n",
    "        #here's what I want the core to be\n",
    "        if (y[j] <= v[i] and y[j]>0):\n",
    "            ir = np.append(ir,j)\n",
    "        elif (y[j] >= v[i] and y[j]<0):\n",
    "            nir = np.append(nir,j)\n",
    "        else:\n",
    "            ur = np.append(ur,j)\n",
    "        i += 1\n",
    "        #Plotting the points we just found\n",
    "    plt.plot(x[list(map(int, ir))],y[list(map(int, ir))],'.',color=\"blue\")\n",
    "    plt.plot(x[list(map(int, nir))],y[list(map(int, nir))],'.',color=\"blue\")\n",
    "    plt.plot(x[list(map(int, ur))],y[list(map(int, ur))],'.',color=\".75\")\n",
    "\n",
    "    #Monte Carlo approximation\n",
    "    area_under_curve = ((b-a)*(np.amax(v)-np.amin(v)))*(len(ir)-len(nir))/n\n",
    "    return area_under_curve"
   ]
  },
  {
   "cell_type": "markdown",
   "metadata": {},
   "source": [
    "## Block to make the graph look pretty"
   ]
  },
  {
   "cell_type": "code",
   "execution_count": null,
   "metadata": {},
   "outputs": [],
   "source": [
    "def plot(n):\n",
    "    n = 3000\n",
    "    u = np.linspace(a,b,n)\n",
    "    v = np.cos(u)\n",
    "    x = (np.random.uniform(a,b,n))\n",
    "    y = (np.random.uniform(np.amin(v),np.amax(v),n))\n",
    "    x.sort()\n",
    "    j = 0\n",
    "    i = 0\n",
    "    ir = []\n",
    "    nir = []\n",
    "    ur = []\n",
    "    for j in range (n):\n",
    "        #here's what I want the core to be\n",
    "        if (y[j] <= v[i] and y[j]>0):\n",
    "            ir = np.append(ir,j)\n",
    "        elif (y[j] >= v[i] and y[j]<0):\n",
    "            nir = np.append(nir,j)\n",
    "        else:\n",
    "            ur = np.append(ur,j)\n",
    "        i += 1\n",
    "    plt.plot(x[list(map(int, ir))],y[list(map(int, ir))],'.',color=\"blue\",label=\"Points 'inside' region between f(x) and x-axis\")\n",
    "    plt.plot(x[list(map(int, nir))],y[list(map(int, nir))],'.',color=\"blue\")\n",
    "    plt.plot(x[list(map(int, ur))],y[list(map(int, ur))],'.',color=\".75\",label=\"Points 'outside' region between f(x) and x-axis\")\n",
    "    plt.plot(u,v,color=\"green\",label=\"f(x)\")\n",
    "    plt.legend(frameon=True)\n",
    "    plt.xlabel('x')\n",
    "    plt.ylabel('y')"
   ]
  },
  {
   "cell_type": "markdown",
   "metadata": {},
   "source": [
    "# Block to ensure a certain tolerance and graph the results"
   ]
  },
  {
   "cell_type": "code",
   "execution_count": null,
   "metadata": {},
   "outputs": [],
   "source": [
    "#Creating the curve to define a line between dots above and below\n",
    "n = 3000\n",
    "a = 0\n",
    "b = 1.75\n",
    "u = np.linspace(a,b,n)\n",
    "v = np.cos(u)\n",
    "\n",
    "#Creating the figure\n",
    "xborder = (np.fabs(a)+np.fabs(b))/10\n",
    "yborder = (np.fabs(np.amin(v))+np.fabs(np.amax(v)))/10\n",
    "\n",
    "fig = plt.figure(figsize=(7,7))\n",
    "plt.xlim([a-xborder,b+xborder])\n",
    "plt.ylim([np.amin(v)-yborder,np.amax(v)+yborder])\n",
    "\n",
    "\n",
    "\n",
    "#Running the tolerance ensurer which will also fill in the figure\n",
    "tol = 1e-5                 ##Because of this##\n",
    "MC_List = []                     #VvvvvvV#\n",
    "flag = 0                          #VvvvV#\n",
    "                                   #VvV#\n",
    "while(flag==0):                     #V#\n",
    "    MC_List = np.append(MC_List,MC_approx(a,b))\n",
    "    if (np.fabs((simpsons_method(func,a,b,1000)-st.mean(MC_List))/simpsons_method(func,a,b,1000)) < tol):\n",
    "        flag = 1\n",
    "\n",
    "        \n",
    "#Here I need to run another approx just so I can label the legend cleanly, otherwise it would have a list of\n",
    "#len(MC_List) of blue dots labeled blue\n",
    "plot(n)\n",
    "\n",
    "print (\"Difference from accepted value = \",np.fabs((simpsons_method(func,0,1.75,1000)-st.mean(MC_List))/simpsons_method(func,0,1.75,1000)))\n",
    "print (\"Number of approximations made = \",len(MC_List))\n",
    "print (\"{Monte Carlo Approximate} {F(a,b)} = \",st.mean(MC_List))"
   ]
  },
  {
   "cell_type": "code",
   "execution_count": null,
   "metadata": {},
   "outputs": [],
   "source": []
  }
 ],
 "metadata": {
  "kernelspec": {
   "display_name": "Python 3",
   "language": "python",
   "name": "python3"
  },
  "language_info": {
   "codemirror_mode": {
    "name": "ipython",
    "version": 3
   },
   "file_extension": ".py",
   "mimetype": "text/x-python",
   "name": "python",
   "nbconvert_exporter": "python",
   "pygments_lexer": "ipython3",
   "version": "3.6.5"
  }
 },
 "nbformat": 4,
 "nbformat_minor": 2
}
